{
 "cells": [
  {
   "cell_type": "code",
   "execution_count": 1,
   "metadata": {},
   "outputs": [],
   "source": [
    "import pandas as pd\n",
    "import numpy as np\n",
    "import matplotlib.pyplot as plt\n",
    "import seaborn as sns\n",
    "%matplotlib inline\n",
    "miss_values = [\"n/s\", \"na\", \"s\"]\n",
    "df = pd.read_csv(\"https://raw.githubusercontent.com/CunyLaguardiaDataAnalytics/datasets/master/2014-15_To_2016-17_School-_Level_NYC_Regents_Report_For_All_Variables.csv\", na_values = miss_values)"
   ]
  },
  {
   "cell_type": "code",
   "execution_count": 2,
   "metadata": {},
   "outputs": [
    {
     "data": {
      "text/html": [
       "<div>\n",
       "<style scoped>\n",
       "    .dataframe tbody tr th:only-of-type {\n",
       "        vertical-align: middle;\n",
       "    }\n",
       "\n",
       "    .dataframe tbody tr th {\n",
       "        vertical-align: top;\n",
       "    }\n",
       "\n",
       "    .dataframe thead th {\n",
       "        text-align: right;\n",
       "    }\n",
       "</style>\n",
       "<table border=\"1\" class=\"dataframe\">\n",
       "  <thead>\n",
       "    <tr style=\"text-align: right;\">\n",
       "      <th></th>\n",
       "      <th>School DBN</th>\n",
       "      <th>School Name</th>\n",
       "      <th>School Level</th>\n",
       "      <th>Regents Exam</th>\n",
       "      <th>Year</th>\n",
       "      <th>Total Tested</th>\n",
       "      <th>Mean Score</th>\n",
       "      <th>Number Scoring Below 65</th>\n",
       "      <th>Percent Scoring Below 65</th>\n",
       "      <th>Number Scoring 65 or Above</th>\n",
       "      <th>Percent Scoring 65 or Above</th>\n",
       "      <th>Number Scoring 80 or Above</th>\n",
       "      <th>Percent Scoring 80 or Above</th>\n",
       "      <th>Number Scoring CR</th>\n",
       "      <th>Percent Scoring CR</th>\n",
       "    </tr>\n",
       "  </thead>\n",
       "  <tbody>\n",
       "    <tr>\n",
       "      <th>0</th>\n",
       "      <td>01M034</td>\n",
       "      <td>P.S. 034 Franklin D. Roosevelt</td>\n",
       "      <td>K-8</td>\n",
       "      <td>Common Core Algebra</td>\n",
       "      <td>2017</td>\n",
       "      <td>4</td>\n",
       "      <td>NaN</td>\n",
       "      <td>NaN</td>\n",
       "      <td>NaN</td>\n",
       "      <td>NaN</td>\n",
       "      <td>NaN</td>\n",
       "      <td>NaN</td>\n",
       "      <td>NaN</td>\n",
       "      <td>NaN</td>\n",
       "      <td>NaN</td>\n",
       "    </tr>\n",
       "    <tr>\n",
       "      <th>1</th>\n",
       "      <td>01M034</td>\n",
       "      <td>P.S. 034 Franklin D. Roosevelt</td>\n",
       "      <td>K-8</td>\n",
       "      <td>Living Environment</td>\n",
       "      <td>2015</td>\n",
       "      <td>16</td>\n",
       "      <td>77.9</td>\n",
       "      <td>1.0</td>\n",
       "      <td>6.3</td>\n",
       "      <td>15.0</td>\n",
       "      <td>93.8</td>\n",
       "      <td>7.0</td>\n",
       "      <td>43.8</td>\n",
       "      <td>NaN</td>\n",
       "      <td>NaN</td>\n",
       "    </tr>\n",
       "    <tr>\n",
       "      <th>2</th>\n",
       "      <td>01M034</td>\n",
       "      <td>P.S. 034 Franklin D. Roosevelt</td>\n",
       "      <td>K-8</td>\n",
       "      <td>Living Environment</td>\n",
       "      <td>2016</td>\n",
       "      <td>9</td>\n",
       "      <td>74.0</td>\n",
       "      <td>1.0</td>\n",
       "      <td>11.1</td>\n",
       "      <td>8.0</td>\n",
       "      <td>88.9</td>\n",
       "      <td>2.0</td>\n",
       "      <td>22.2</td>\n",
       "      <td>NaN</td>\n",
       "      <td>NaN</td>\n",
       "    </tr>\n",
       "    <tr>\n",
       "      <th>3</th>\n",
       "      <td>01M140</td>\n",
       "      <td>P.S. 140 Nathan Straus</td>\n",
       "      <td>K-8</td>\n",
       "      <td>Common Core Algebra</td>\n",
       "      <td>2016</td>\n",
       "      <td>3</td>\n",
       "      <td>NaN</td>\n",
       "      <td>NaN</td>\n",
       "      <td>NaN</td>\n",
       "      <td>NaN</td>\n",
       "      <td>NaN</td>\n",
       "      <td>NaN</td>\n",
       "      <td>NaN</td>\n",
       "      <td>NaN</td>\n",
       "      <td>NaN</td>\n",
       "    </tr>\n",
       "    <tr>\n",
       "      <th>4</th>\n",
       "      <td>01M140</td>\n",
       "      <td>P.S. 140 Nathan Straus</td>\n",
       "      <td>K-8</td>\n",
       "      <td>Common Core Algebra</td>\n",
       "      <td>2017</td>\n",
       "      <td>2</td>\n",
       "      <td>NaN</td>\n",
       "      <td>NaN</td>\n",
       "      <td>NaN</td>\n",
       "      <td>NaN</td>\n",
       "      <td>NaN</td>\n",
       "      <td>NaN</td>\n",
       "      <td>NaN</td>\n",
       "      <td>NaN</td>\n",
       "      <td>NaN</td>\n",
       "    </tr>\n",
       "    <tr>\n",
       "      <th>...</th>\n",
       "      <td>...</td>\n",
       "      <td>...</td>\n",
       "      <td>...</td>\n",
       "      <td>...</td>\n",
       "      <td>...</td>\n",
       "      <td>...</td>\n",
       "      <td>...</td>\n",
       "      <td>...</td>\n",
       "      <td>...</td>\n",
       "      <td>...</td>\n",
       "      <td>...</td>\n",
       "      <td>...</td>\n",
       "      <td>...</td>\n",
       "      <td>...</td>\n",
       "      <td>...</td>\n",
       "    </tr>\n",
       "    <tr>\n",
       "      <th>212326</th>\n",
       "      <td>84X717</td>\n",
       "      <td>Icahn Charter School</td>\n",
       "      <td>K-8</td>\n",
       "      <td>Living Environment</td>\n",
       "      <td>2016</td>\n",
       "      <td>8</td>\n",
       "      <td>NaN</td>\n",
       "      <td>NaN</td>\n",
       "      <td>NaN</td>\n",
       "      <td>NaN</td>\n",
       "      <td>NaN</td>\n",
       "      <td>NaN</td>\n",
       "      <td>NaN</td>\n",
       "      <td>NaN</td>\n",
       "      <td>NaN</td>\n",
       "    </tr>\n",
       "    <tr>\n",
       "      <th>212327</th>\n",
       "      <td>84X717</td>\n",
       "      <td>Icahn Charter School</td>\n",
       "      <td>K-8</td>\n",
       "      <td>Living Environment</td>\n",
       "      <td>2016</td>\n",
       "      <td>5</td>\n",
       "      <td>NaN</td>\n",
       "      <td>NaN</td>\n",
       "      <td>NaN</td>\n",
       "      <td>NaN</td>\n",
       "      <td>NaN</td>\n",
       "      <td>NaN</td>\n",
       "      <td>NaN</td>\n",
       "      <td>NaN</td>\n",
       "      <td>NaN</td>\n",
       "    </tr>\n",
       "    <tr>\n",
       "      <th>212328</th>\n",
       "      <td>84X717</td>\n",
       "      <td>Icahn Charter School</td>\n",
       "      <td>K-8</td>\n",
       "      <td>Living Environment</td>\n",
       "      <td>2017</td>\n",
       "      <td>6</td>\n",
       "      <td>NaN</td>\n",
       "      <td>NaN</td>\n",
       "      <td>NaN</td>\n",
       "      <td>NaN</td>\n",
       "      <td>NaN</td>\n",
       "      <td>NaN</td>\n",
       "      <td>NaN</td>\n",
       "      <td>NaN</td>\n",
       "      <td>NaN</td>\n",
       "    </tr>\n",
       "    <tr>\n",
       "      <th>212329</th>\n",
       "      <td>84X717</td>\n",
       "      <td>Icahn Charter School</td>\n",
       "      <td>K-8</td>\n",
       "      <td>Living Environment</td>\n",
       "      <td>2017</td>\n",
       "      <td>4</td>\n",
       "      <td>NaN</td>\n",
       "      <td>NaN</td>\n",
       "      <td>NaN</td>\n",
       "      <td>NaN</td>\n",
       "      <td>NaN</td>\n",
       "      <td>NaN</td>\n",
       "      <td>NaN</td>\n",
       "      <td>NaN</td>\n",
       "      <td>NaN</td>\n",
       "    </tr>\n",
       "    <tr>\n",
       "      <th>212330</th>\n",
       "      <td>84X717</td>\n",
       "      <td>Icahn Charter School</td>\n",
       "      <td>K-8</td>\n",
       "      <td>U.S. History and Government</td>\n",
       "      <td>2015</td>\n",
       "      <td>1</td>\n",
       "      <td>NaN</td>\n",
       "      <td>NaN</td>\n",
       "      <td>NaN</td>\n",
       "      <td>NaN</td>\n",
       "      <td>NaN</td>\n",
       "      <td>NaN</td>\n",
       "      <td>NaN</td>\n",
       "      <td>NaN</td>\n",
       "      <td>NaN</td>\n",
       "    </tr>\n",
       "  </tbody>\n",
       "</table>\n",
       "<p>212331 rows × 15 columns</p>\n",
       "</div>"
      ],
      "text/plain": [
       "       School DBN                     School Name School Level  \\\n",
       "0          01M034  P.S. 034 Franklin D. Roosevelt          K-8   \n",
       "1          01M034  P.S. 034 Franklin D. Roosevelt          K-8   \n",
       "2          01M034  P.S. 034 Franklin D. Roosevelt          K-8   \n",
       "3          01M140          P.S. 140 Nathan Straus          K-8   \n",
       "4          01M140          P.S. 140 Nathan Straus          K-8   \n",
       "...           ...                             ...          ...   \n",
       "212326     84X717            Icahn Charter School          K-8   \n",
       "212327     84X717            Icahn Charter School          K-8   \n",
       "212328     84X717            Icahn Charter School          K-8   \n",
       "212329     84X717            Icahn Charter School          K-8   \n",
       "212330     84X717            Icahn Charter School          K-8   \n",
       "\n",
       "                       Regents Exam  Year  Total Tested  Mean Score  \\\n",
       "0               Common Core Algebra  2017             4         NaN   \n",
       "1                Living Environment  2015            16        77.9   \n",
       "2                Living Environment  2016             9        74.0   \n",
       "3               Common Core Algebra  2016             3         NaN   \n",
       "4               Common Core Algebra  2017             2         NaN   \n",
       "...                             ...   ...           ...         ...   \n",
       "212326           Living Environment  2016             8         NaN   \n",
       "212327           Living Environment  2016             5         NaN   \n",
       "212328           Living Environment  2017             6         NaN   \n",
       "212329           Living Environment  2017             4         NaN   \n",
       "212330  U.S. History and Government  2015             1         NaN   \n",
       "\n",
       "        Number Scoring Below 65  Percent Scoring Below 65  \\\n",
       "0                           NaN                       NaN   \n",
       "1                           1.0                       6.3   \n",
       "2                           1.0                      11.1   \n",
       "3                           NaN                       NaN   \n",
       "4                           NaN                       NaN   \n",
       "...                         ...                       ...   \n",
       "212326                      NaN                       NaN   \n",
       "212327                      NaN                       NaN   \n",
       "212328                      NaN                       NaN   \n",
       "212329                      NaN                       NaN   \n",
       "212330                      NaN                       NaN   \n",
       "\n",
       "        Number Scoring 65 or Above  Percent Scoring 65 or Above  \\\n",
       "0                              NaN                          NaN   \n",
       "1                             15.0                         93.8   \n",
       "2                              8.0                         88.9   \n",
       "3                              NaN                          NaN   \n",
       "4                              NaN                          NaN   \n",
       "...                            ...                          ...   \n",
       "212326                         NaN                          NaN   \n",
       "212327                         NaN                          NaN   \n",
       "212328                         NaN                          NaN   \n",
       "212329                         NaN                          NaN   \n",
       "212330                         NaN                          NaN   \n",
       "\n",
       "        Number Scoring 80 or Above  Percent Scoring 80 or Above  \\\n",
       "0                              NaN                          NaN   \n",
       "1                              7.0                         43.8   \n",
       "2                              2.0                         22.2   \n",
       "3                              NaN                          NaN   \n",
       "4                              NaN                          NaN   \n",
       "...                            ...                          ...   \n",
       "212326                         NaN                          NaN   \n",
       "212327                         NaN                          NaN   \n",
       "212328                         NaN                          NaN   \n",
       "212329                         NaN                          NaN   \n",
       "212330                         NaN                          NaN   \n",
       "\n",
       "        Number Scoring CR  Percent Scoring CR  \n",
       "0                     NaN                 NaN  \n",
       "1                     NaN                 NaN  \n",
       "2                     NaN                 NaN  \n",
       "3                     NaN                 NaN  \n",
       "4                     NaN                 NaN  \n",
       "...                   ...                 ...  \n",
       "212326                NaN                 NaN  \n",
       "212327                NaN                 NaN  \n",
       "212328                NaN                 NaN  \n",
       "212329                NaN                 NaN  \n",
       "212330                NaN                 NaN  \n",
       "\n",
       "[212331 rows x 15 columns]"
      ]
     },
     "execution_count": 2,
     "metadata": {},
     "output_type": "execute_result"
    }
   ],
   "source": [
    "df"
   ]
  },
  {
   "cell_type": "code",
   "execution_count": 3,
   "metadata": {},
   "outputs": [
    {
     "name": "stdout",
     "output_type": "stream",
     "text": [
      "<class 'pandas.core.frame.DataFrame'>\n",
      "RangeIndex: 212331 entries, 0 to 212330\n",
      "Data columns (total 15 columns):\n",
      " #   Column                       Non-Null Count   Dtype  \n",
      "---  ------                       --------------   -----  \n",
      " 0   School DBN                   212331 non-null  object \n",
      " 1   School Name                  212331 non-null  object \n",
      " 2   School Level                 212331 non-null  object \n",
      " 3   Regents Exam                 212321 non-null  object \n",
      " 4   Year                         212331 non-null  int64  \n",
      " 5   Total Tested                 212331 non-null  int64  \n",
      " 6   Mean Score                   137109 non-null  float64\n",
      " 7   Number Scoring Below 65      137109 non-null  float64\n",
      " 8   Percent Scoring Below 65     137109 non-null  float64\n",
      " 9   Number Scoring 65 or Above   137109 non-null  float64\n",
      " 10  Percent Scoring 65 or Above  137109 non-null  float64\n",
      " 11  Number Scoring 80 or Above   137109 non-null  float64\n",
      " 12  Percent Scoring 80 or Above  137109 non-null  float64\n",
      " 13  Number Scoring CR            69651 non-null   float64\n",
      " 14  Percent Scoring CR           69651 non-null   float64\n",
      "dtypes: float64(9), int64(2), object(4)\n",
      "memory usage: 24.3+ MB\n"
     ]
    }
   ],
   "source": [
    "df.info()"
   ]
  },
  {
   "cell_type": "code",
   "execution_count": 4,
   "metadata": {},
   "outputs": [
    {
     "data": {
      "text/plain": [
       "Index(['School DBN', 'School Name', 'School Level', 'Regents Exam', 'Year',\n",
       "       'Total Tested', 'Mean Score', 'Number Scoring Below 65',\n",
       "       'Percent Scoring Below 65', 'Number Scoring 65 or Above',\n",
       "       'Percent Scoring 65 or Above', 'Number Scoring 80 or Above',\n",
       "       'Percent Scoring 80 or Above', 'Number Scoring CR',\n",
       "       'Percent Scoring CR'],\n",
       "      dtype='object')"
      ]
     },
     "execution_count": 4,
     "metadata": {},
     "output_type": "execute_result"
    }
   ],
   "source": [
    "df.columns"
   ]
  },
  {
   "cell_type": "code",
   "execution_count": 5,
   "metadata": {},
   "outputs": [
    {
     "data": {
      "text/html": [
       "<div>\n",
       "<style scoped>\n",
       "    .dataframe tbody tr th:only-of-type {\n",
       "        vertical-align: middle;\n",
       "    }\n",
       "\n",
       "    .dataframe tbody tr th {\n",
       "        vertical-align: top;\n",
       "    }\n",
       "\n",
       "    .dataframe thead th {\n",
       "        text-align: right;\n",
       "    }\n",
       "</style>\n",
       "<table border=\"1\" class=\"dataframe\">\n",
       "  <thead>\n",
       "    <tr style=\"text-align: right;\">\n",
       "      <th></th>\n",
       "      <th>Year</th>\n",
       "      <th>Total Tested</th>\n",
       "      <th>Mean Score</th>\n",
       "      <th>Number Scoring Below 65</th>\n",
       "      <th>Percent Scoring Below 65</th>\n",
       "      <th>Number Scoring 65 or Above</th>\n",
       "      <th>Percent Scoring 65 or Above</th>\n",
       "      <th>Number Scoring 80 or Above</th>\n",
       "      <th>Percent Scoring 80 or Above</th>\n",
       "      <th>Number Scoring CR</th>\n",
       "      <th>Percent Scoring CR</th>\n",
       "    </tr>\n",
       "  </thead>\n",
       "  <tbody>\n",
       "    <tr>\n",
       "      <th>count</th>\n",
       "      <td>212331.000000</td>\n",
       "      <td>212331.000000</td>\n",
       "      <td>137109.000000</td>\n",
       "      <td>137109.000000</td>\n",
       "      <td>137109.000000</td>\n",
       "      <td>137109.000000</td>\n",
       "      <td>137109.000000</td>\n",
       "      <td>137109.000000</td>\n",
       "      <td>137109.000000</td>\n",
       "      <td>69651.000000</td>\n",
       "      <td>69651.000000</td>\n",
       "    </tr>\n",
       "    <tr>\n",
       "      <th>mean</th>\n",
       "      <td>2015.956069</td>\n",
       "      <td>49.364200</td>\n",
       "      <td>65.998967</td>\n",
       "      <td>25.140297</td>\n",
       "      <td>41.933632</td>\n",
       "      <td>46.443516</td>\n",
       "      <td>58.067855</td>\n",
       "      <td>20.506655</td>\n",
       "      <td>22.692027</td>\n",
       "      <td>29.959340</td>\n",
       "      <td>36.213730</td>\n",
       "    </tr>\n",
       "    <tr>\n",
       "      <th>std</th>\n",
       "      <td>0.799726</td>\n",
       "      <td>93.023576</td>\n",
       "      <td>11.288883</td>\n",
       "      <td>37.155199</td>\n",
       "      <td>28.405737</td>\n",
       "      <td>85.187123</td>\n",
       "      <td>28.405517</td>\n",
       "      <td>56.301578</td>\n",
       "      <td>26.160987</td>\n",
       "      <td>68.306798</td>\n",
       "      <td>31.092605</td>\n",
       "    </tr>\n",
       "    <tr>\n",
       "      <th>min</th>\n",
       "      <td>2015.000000</td>\n",
       "      <td>1.000000</td>\n",
       "      <td>15.000000</td>\n",
       "      <td>0.000000</td>\n",
       "      <td>0.000000</td>\n",
       "      <td>0.000000</td>\n",
       "      <td>0.000000</td>\n",
       "      <td>0.000000</td>\n",
       "      <td>0.000000</td>\n",
       "      <td>0.000000</td>\n",
       "      <td>0.000000</td>\n",
       "    </tr>\n",
       "    <tr>\n",
       "      <th>25%</th>\n",
       "      <td>2015.000000</td>\n",
       "      <td>5.000000</td>\n",
       "      <td>58.300000</td>\n",
       "      <td>5.000000</td>\n",
       "      <td>17.500000</td>\n",
       "      <td>8.000000</td>\n",
       "      <td>36.000000</td>\n",
       "      <td>1.000000</td>\n",
       "      <td>2.200000</td>\n",
       "      <td>2.000000</td>\n",
       "      <td>8.800000</td>\n",
       "    </tr>\n",
       "    <tr>\n",
       "      <th>50%</th>\n",
       "      <td>2016.000000</td>\n",
       "      <td>20.000000</td>\n",
       "      <td>65.400000</td>\n",
       "      <td>13.000000</td>\n",
       "      <td>40.200000</td>\n",
       "      <td>21.000000</td>\n",
       "      <td>59.800000</td>\n",
       "      <td>5.000000</td>\n",
       "      <td>12.500000</td>\n",
       "      <td>9.000000</td>\n",
       "      <td>29.000000</td>\n",
       "    </tr>\n",
       "    <tr>\n",
       "      <th>75%</th>\n",
       "      <td>2017.000000</td>\n",
       "      <td>57.000000</td>\n",
       "      <td>73.400000</td>\n",
       "      <td>31.000000</td>\n",
       "      <td>64.000000</td>\n",
       "      <td>52.000000</td>\n",
       "      <td>82.500000</td>\n",
       "      <td>18.000000</td>\n",
       "      <td>34.500000</td>\n",
       "      <td>31.000000</td>\n",
       "      <td>58.800000</td>\n",
       "    </tr>\n",
       "    <tr>\n",
       "      <th>max</th>\n",
       "      <td>2017.000000</td>\n",
       "      <td>1729.000000</td>\n",
       "      <td>98.700000</td>\n",
       "      <td>697.000000</td>\n",
       "      <td>100.000000</td>\n",
       "      <td>1607.000000</td>\n",
       "      <td>100.000000</td>\n",
       "      <td>1365.000000</td>\n",
       "      <td>100.000000</td>\n",
       "      <td>1465.000000</td>\n",
       "      <td>100.000000</td>\n",
       "    </tr>\n",
       "  </tbody>\n",
       "</table>\n",
       "</div>"
      ],
      "text/plain": [
       "                Year   Total Tested     Mean Score  Number Scoring Below 65  \\\n",
       "count  212331.000000  212331.000000  137109.000000            137109.000000   \n",
       "mean     2015.956069      49.364200      65.998967                25.140297   \n",
       "std         0.799726      93.023576      11.288883                37.155199   \n",
       "min      2015.000000       1.000000      15.000000                 0.000000   \n",
       "25%      2015.000000       5.000000      58.300000                 5.000000   \n",
       "50%      2016.000000      20.000000      65.400000                13.000000   \n",
       "75%      2017.000000      57.000000      73.400000                31.000000   \n",
       "max      2017.000000    1729.000000      98.700000               697.000000   \n",
       "\n",
       "       Percent Scoring Below 65  Number Scoring 65 or Above  \\\n",
       "count             137109.000000               137109.000000   \n",
       "mean                  41.933632                   46.443516   \n",
       "std                   28.405737                   85.187123   \n",
       "min                    0.000000                    0.000000   \n",
       "25%                   17.500000                    8.000000   \n",
       "50%                   40.200000                   21.000000   \n",
       "75%                   64.000000                   52.000000   \n",
       "max                  100.000000                 1607.000000   \n",
       "\n",
       "       Percent Scoring 65 or Above  Number Scoring 80 or Above  \\\n",
       "count                137109.000000               137109.000000   \n",
       "mean                     58.067855                   20.506655   \n",
       "std                      28.405517                   56.301578   \n",
       "min                       0.000000                    0.000000   \n",
       "25%                      36.000000                    1.000000   \n",
       "50%                      59.800000                    5.000000   \n",
       "75%                      82.500000                   18.000000   \n",
       "max                     100.000000                 1365.000000   \n",
       "\n",
       "       Percent Scoring 80 or Above  Number Scoring CR  Percent Scoring CR  \n",
       "count                137109.000000       69651.000000        69651.000000  \n",
       "mean                     22.692027          29.959340           36.213730  \n",
       "std                      26.160987          68.306798           31.092605  \n",
       "min                       0.000000           0.000000            0.000000  \n",
       "25%                       2.200000           2.000000            8.800000  \n",
       "50%                      12.500000           9.000000           29.000000  \n",
       "75%                      34.500000          31.000000           58.800000  \n",
       "max                     100.000000        1465.000000          100.000000  "
      ]
     },
     "execution_count": 5,
     "metadata": {},
     "output_type": "execute_result"
    }
   ],
   "source": [
    "df.describe()"
   ]
  },
  {
   "cell_type": "code",
   "execution_count": 9,
   "metadata": {},
   "outputs": [
    {
     "name": "stderr",
     "output_type": "stream",
     "text": [
      "C:\\Anaconda3\\lib\\site-packages\\seaborn\\distributions.py:2551: FutureWarning: `distplot` is a deprecated function and will be removed in a future version. Please adapt your code to use either `displot` (a figure-level function with similar flexibility) or `histplot` (an axes-level function for histograms).\n",
      "  warnings.warn(msg, FutureWarning)\n"
     ]
    },
    {
     "data": {
      "text/plain": [
       "<AxesSubplot:xlabel='Percent Scoring 80 or Above', ylabel='Density'>"
      ]
     },
     "execution_count": 9,
     "metadata": {},
     "output_type": "execute_result"
    },
    {
     "data": {
      "image/png": "[encoded data removed]",
      "text/plain": [
       "<Figure size 432x288 with 1 Axes>"
      ]
     },
     "metadata": {
      "needs_background": "light"
     },
     "output_type": "display_data"
    }
   ],
   "source": [
    "sns.distplot(df['Percent Scoring 80 or Above'])"
   ]
  },
  {
   "cell_type": "code",
   "execution_count": 12,
   "metadata": {},
   "outputs": [
    {
     "name": "stderr",
     "output_type": "stream",
     "text": [
      "C:\\Anaconda3\\lib\\site-packages\\seaborn\\distributions.py:2551: FutureWarning: `distplot` is a deprecated function and will be removed in a future version. Please adapt your code to use either `displot` (a figure-level function with similar flexibility) or `histplot` (an axes-level function for histograms).\n",
      "  warnings.warn(msg, FutureWarning)\n"
     ]
    },
    {
     "data": {
      "text/plain": [
       "<AxesSubplot:xlabel='Percent Scoring 80 or Above', ylabel='Density'>"
      ]
     },
     "execution_count": 12,
     "metadata": {},
     "output_type": "execute_result"
    },
    {
     "data": {
      "image/png": "[encoded data removed]",
      "text/plain": [
       "<Figure size 432x288 with 1 Axes>"
      ]
     },
     "metadata": {
      "needs_background": "light"
     },
     "output_type": "display_data"
    }
   ],
   "source": [
    "sns.distplot(df['Percent Scoring 80 or Above'][df['Regents Exam']=='Physical Settings/Chemistry'])"
   ]
  },
  {
   "cell_type": "code",
   "execution_count": 13,
   "metadata": {},
   "outputs": [
    {
     "data": {
      "text/plain": [
       "<AxesSubplot:xlabel='Year'>"
      ]
     },
     "execution_count": 13,
     "metadata": {},
     "output_type": "execute_result"
    },
    {
     "data": {
      "image/png": "[encoded data removed]",
      "text/plain": [
       "<Figure size 432x288 with 1 Axes>"
      ]
     },
     "metadata": {
      "needs_background": "light"
     },
     "output_type": "display_data"
    }
   ],
   "source": [
    "df.groupby(['Year'])['Total Tested'].count().plot(kind=\"bar\")"
   ]
  },
  {
   "cell_type": "code",
   "execution_count": 15,
   "metadata": {},
   "outputs": [
    {
     "data": {
      "text/plain": [
       "<AxesSubplot:xlabel='Year', ylabel='Number Scoring 80 or Above'>"
      ]
     },
     "execution_count": 15,
     "metadata": {},
     "output_type": "execute_result"
    },
    {
     "data": {
      "image/png": "[encoded data removed]",
      "text/plain": [
       "<Figure size 432x288 with 1 Axes>"
      ]
     },
     "metadata": {
      "needs_background": "light"
     },
     "output_type": "display_data"
    }
   ],
   "source": [
    "sns.barplot(x='Year', y='Number Scoring 80 or Above', data=df)"
   ]
  },
  {
   "cell_type": "code",
   "execution_count": 6,
   "metadata": {},
   "outputs": [],
   "source": [
    "#Segregating dataset for Forest Hills High School to compare to NYC overall\n",
    "FHHS = df[df['School Name']=='Forest Hills High School']"
   ]
  },
  {
   "cell_type": "code",
   "execution_count": 7,
   "metadata": {},
   "outputs": [
    {
     "data": {
      "text/plain": [
       "<bound method NDFrame.describe of        School DBN               School Name School Level  \\\n",
       "15578      28Q440  Forest Hills High School  High school   \n",
       "15579      28Q440  Forest Hills High School  High school   \n",
       "15580      28Q440  Forest Hills High School  High school   \n",
       "15581      28Q440  Forest Hills High School  High school   \n",
       "15582      28Q440  Forest Hills High School  High school   \n",
       "...           ...                       ...          ...   \n",
       "198696     28Q440  Forest Hills High School  High school   \n",
       "198697     28Q440  Forest Hills High School  High school   \n",
       "198698     28Q440  Forest Hills High School  High school   \n",
       "198699     28Q440  Forest Hills High School  High school   \n",
       "198700     28Q440  Forest Hills High School  High school   \n",
       "\n",
       "                       Regents Exam  Year  Total Tested  Mean Score  \\\n",
       "15578         Algebra2/Trigonometry  2015           562        73.4   \n",
       "15579         Algebra2/Trigonometry  2016           650        73.2   \n",
       "15580         Algebra2/Trigonometry  2017             6        58.7   \n",
       "15581           Common Core Algebra  2015           442        69.2   \n",
       "15582           Common Core Algebra  2016           861        73.0   \n",
       "...                             ...   ...           ...         ...   \n",
       "198696  U.S. History and Government  2017           245        87.7   \n",
       "198697  U.S. History and Government  2017            89        79.8   \n",
       "198698  U.S. History and Government  2017           334        79.8   \n",
       "198699  U.S. History and Government  2017            29        83.6   \n",
       "198700  U.S. History and Government  2017           286        83.6   \n",
       "\n",
       "        Number Scoring Below 65  Percent Scoring Below 65  \\\n",
       "15578                     149.0                      26.5   \n",
       "15579                     215.0                      33.1   \n",
       "15580                       4.0                      66.7   \n",
       "15581                     117.0                      26.5   \n",
       "15582                     145.0                      16.8   \n",
       "...                         ...                       ...   \n",
       "198696                      8.0                       3.3   \n",
       "198697                     13.0                      14.6   \n",
       "198698                     57.0                      17.1   \n",
       "198699                      3.0                      10.3   \n",
       "198700                     27.0                       9.4   \n",
       "\n",
       "        Number Scoring 65 or Above  Percent Scoring 65 or Above  \\\n",
       "15578                        413.0                         73.5   \n",
       "15579                        435.0                         66.9   \n",
       "15580                          2.0                         33.3   \n",
       "15581                        325.0                         73.5   \n",
       "15582                        716.0                         83.2   \n",
       "...                            ...                          ...   \n",
       "198696                       237.0                         96.7   \n",
       "198697                        76.0                         85.4   \n",
       "198698                       277.0                         82.9   \n",
       "198699                        26.0                         89.7   \n",
       "198700                       259.0                         90.6   \n",
       "\n",
       "        Number Scoring 80 or Above  Percent Scoring 80 or Above  \\\n",
       "15578                        231.0                         41.1   \n",
       "15579                        290.0                         44.6   \n",
       "15580                          0.0                          0.0   \n",
       "15581                         59.0                         13.3   \n",
       "15582                        231.0                         26.8   \n",
       "...                            ...                          ...   \n",
       "198696                       194.0                         79.2   \n",
       "198697                        55.0                         61.8   \n",
       "198698                       191.0                         57.2   \n",
       "198699                        19.0                         65.5   \n",
       "198700                       202.0                         70.6   \n",
       "\n",
       "        Number Scoring CR  Percent Scoring CR  \n",
       "15578               231.0                41.1  \n",
       "15579               290.0                44.6  \n",
       "15580                 0.0                 0.0  \n",
       "15581               265.0                60.0  \n",
       "15582               606.0                70.4  \n",
       "...                   ...                 ...  \n",
       "198696                NaN                 NaN  \n",
       "198697                NaN                 NaN  \n",
       "198698                NaN                 NaN  \n",
       "198699                NaN                 NaN  \n",
       "198700                NaN                 NaN  \n",
       "\n",
       "[486 rows x 15 columns]>"
      ]
     },
     "execution_count": 7,
     "metadata": {},
     "output_type": "execute_result"
    }
   ],
   "source": [
    "FHHS.describe"
   ]
  },
  {
   "cell_type": "code",
   "execution_count": 8,
   "metadata": {},
   "outputs": [
    {
     "name": "stderr",
     "output_type": "stream",
     "text": [
      "C:\\Anaconda3\\lib\\site-packages\\seaborn\\distributions.py:2551: FutureWarning: `distplot` is a deprecated function and will be removed in a future version. Please adapt your code to use either `displot` (a figure-level function with similar flexibility) or `histplot` (an axes-level function for histograms).\n",
      "  warnings.warn(msg, FutureWarning)\n"
     ]
    },
    {
     "data": {
      "text/plain": [
       "<AxesSubplot:xlabel='Percent Scoring 80 or Above', ylabel='Density'>"
      ]
     },
     "execution_count": 8,
     "metadata": {},
     "output_type": "execute_result"
    },
    {
     "data": {
      "image/png": "[encoded data removed]",
      "text/plain": [
       "<Figure size 432x288 with 1 Axes>"
      ]
     },
     "metadata": {
      "needs_background": "light"
     },
     "output_type": "display_data"
    }
   ],
   "source": [
    "sns.distplot(FHHS['Percent Scoring 80 or Above'])"
   ]
  },
  {
   "cell_type": "code",
   "execution_count": 11,
   "metadata": {},
   "outputs": [
    {
     "name": "stderr",
     "output_type": "stream",
     "text": [
      "C:\\Anaconda3\\lib\\site-packages\\seaborn\\distributions.py:2551: FutureWarning: `distplot` is a deprecated function and will be removed in a future version. Please adapt your code to use either `displot` (a figure-level function with similar flexibility) or `histplot` (an axes-level function for histograms).\n",
      "  warnings.warn(msg, FutureWarning)\n"
     ]
    },
    {
     "data": {
      "text/plain": [
       "<AxesSubplot:xlabel='Percent Scoring 80 or Above', ylabel='Density'>"
      ]
     },
     "execution_count": 11,
     "metadata": {},
     "output_type": "execute_result"
    },
    {
     "data": {
      "image/png": "[encoded data removed]",
      "text/plain": [
       "<Figure size 432x288 with 1 Axes>"
      ]
     },
     "metadata": {
      "needs_background": "light"
     },
     "output_type": "display_data"
    }
   ],
   "source": [
    "sns.distplot(FHHS['Percent Scoring 80 or Above'][FHHS['Regents Exam']=='Physical Settings/Chemistry'])"
   ]
  },
  {
   "cell_type": "code",
   "execution_count": 14,
   "metadata": {},
   "outputs": [
    {
     "data": {
      "text/plain": [
       "<AxesSubplot:xlabel='Year'>"
      ]
     },
     "execution_count": 14,
     "metadata": {},
     "output_type": "execute_result"
    },
    {
     "data": {
      "image/png": "[encoded data removed]",
      "text/plain": [
       "<Figure size 432x288 with 1 Axes>"
      ]
     },
     "metadata": {
      "needs_background": "light"
     },
     "output_type": "display_data"
    }
   ],
   "source": [
    "FHHS.groupby(['Year'])['Total Tested'].count().plot(kind=\"bar\")"
   ]
  },
  {
   "cell_type": "code",
   "execution_count": 16,
   "metadata": {},
   "outputs": [
    {
     "data": {
      "text/plain": [
       "<AxesSubplot:xlabel='Year', ylabel='Number Scoring 80 or Above'>"
      ]
     },
     "execution_count": 16,
     "metadata": {},
     "output_type": "execute_result"
    },
    {
     "data": {
      "image/png": "[encoded data removed]",
      "text/plain": [
       "<Figure size 432x288 with 1 Axes>"
      ]
     },
     "metadata": {
      "needs_background": "light"
     },
     "output_type": "display_data"
    }
   ],
   "source": [
    "sns.barplot(x='Year', y='Number Scoring 80 or Above', data=FHHS)"
   ]
  },
  {
   "cell_type": "code",
   "execution_count": null,
   "metadata": {},
   "outputs": [],
   "source": [
    "#Conclusion:\n",
    "#In comparing FHHS students against the NYC it can be noted from the barplot that the numper of students scoring 80 or above \n",
    "#increased each year FHHS students did not increase from year to year.\n",
    "#Additionally, it can be noted that the shift in total tested at FHHS is in line with NYC overal; the total tested in both \n",
    "#the individual school and in NYC overall was highes in 2016 as compared to 2015 and 2017.  \n",
    "#Also noted based on the histograms was that FHHS scored did better in scoring 80 or above in chemistry regents than the city overall."
   ]
  }
 ],
 "metadata": {
  "kernelspec": {
   "display_name": "Python 3",
   "language": "python",
   "name": "python3"
  },
  "language_info": {
   "codemirror_mode": {
    "name": "ipython",
    "version": 3
   },
   "file_extension": ".py",
   "mimetype": "text/x-python",
   "name": "python",
   "nbconvert_exporter": "python",
   "pygments_lexer": "ipython3",
   "version": "3.8.5"
  }
 },
 "nbformat": 4,
 "nbformat_minor": 4
}
